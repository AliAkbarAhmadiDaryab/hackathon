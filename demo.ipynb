{
 "cells": [
  {
   "cell_type": "code",
   "execution_count": 1,
   "metadata": {},
   "outputs": [],
   "source": [
    "import os\n",
    "import openai\n",
    "from dotenv import load_dotenv \n",
    "load_dotenv()\n",
    "openai.api_key = os.getenv(\"OPENAI_API_KEY\")\n",
    "import pandas as pd"
   ]
  },
  {
   "cell_type": "markdown",
   "metadata": {},
   "source": [
    "#### Load Dataset   "
   ]
  },
  {
   "cell_type": "code",
   "execution_count": 2,
   "metadata": {},
   "outputs": [],
   "source": [
    "data = pd.read_excel(\"data/presentation/afg-hfs-functionality-status-20_09_2021.xlsx\")"
   ]
  },
  {
   "cell_type": "code",
   "execution_count": 3,
   "metadata": {},
   "outputs": [
    {
     "data": {
      "text/html": [
       "<div>\n",
       "<style scoped>\n",
       "    .dataframe tbody tr th:only-of-type {\n",
       "        vertical-align: middle;\n",
       "    }\n",
       "\n",
       "    .dataframe tbody tr th {\n",
       "        vertical-align: top;\n",
       "    }\n",
       "\n",
       "    .dataframe thead th {\n",
       "        text-align: right;\n",
       "    }\n",
       "</style>\n",
       "<table border=\"1\" class=\"dataframe\">\n",
       "  <thead>\n",
       "    <tr style=\"text-align: right;\">\n",
       "      <th></th>\n",
       "      <th>SN</th>\n",
       "      <th>Regions</th>\n",
       "      <th>Province</th>\n",
       "      <th>Total # of Sehatmandi HFs</th>\n",
       "      <th>Full Functional HFs</th>\n",
       "      <th>Partial Functional HFs</th>\n",
       "      <th>Non-Functional HFs</th>\n",
       "      <th>Remarks</th>\n",
       "    </tr>\n",
       "  </thead>\n",
       "  <tbody>\n",
       "    <tr>\n",
       "      <th>0</th>\n",
       "      <td>1</td>\n",
       "      <td>South</td>\n",
       "      <td>Kandahar</td>\n",
       "      <td>64</td>\n",
       "      <td>54</td>\n",
       "      <td>10</td>\n",
       "      <td>0</td>\n",
       "      <td>NaN</td>\n",
       "    </tr>\n",
       "    <tr>\n",
       "      <th>1</th>\n",
       "      <td>2</td>\n",
       "      <td>South</td>\n",
       "      <td>Hemlmand</td>\n",
       "      <td>78</td>\n",
       "      <td>0</td>\n",
       "      <td>77</td>\n",
       "      <td>1</td>\n",
       "      <td>NaN</td>\n",
       "    </tr>\n",
       "    <tr>\n",
       "      <th>2</th>\n",
       "      <td>3</td>\n",
       "      <td>South</td>\n",
       "      <td>Zabul</td>\n",
       "      <td>47</td>\n",
       "      <td>0</td>\n",
       "      <td>47</td>\n",
       "      <td>0</td>\n",
       "      <td>NaN</td>\n",
       "    </tr>\n",
       "    <tr>\n",
       "      <th>3</th>\n",
       "      <td>4</td>\n",
       "      <td>South</td>\n",
       "      <td>Urozgan</td>\n",
       "      <td>56</td>\n",
       "      <td>0</td>\n",
       "      <td>56</td>\n",
       "      <td>0</td>\n",
       "      <td>NaN</td>\n",
       "    </tr>\n",
       "    <tr>\n",
       "      <th>4</th>\n",
       "      <td>5</td>\n",
       "      <td>South</td>\n",
       "      <td>Nimroz</td>\n",
       "      <td>18</td>\n",
       "      <td>0</td>\n",
       "      <td>18</td>\n",
       "      <td>0</td>\n",
       "      <td>NaN</td>\n",
       "    </tr>\n",
       "  </tbody>\n",
       "</table>\n",
       "</div>"
      ],
      "text/plain": [
       "  SN Regions  Province  Total # of Sehatmandi HFs  Full Functional HFs  \\\n",
       "0  1   South  Kandahar                         64                   54   \n",
       "1  2   South  Hemlmand                         78                    0   \n",
       "2  3   South     Zabul                         47                    0   \n",
       "3  4   South   Urozgan                         56                    0   \n",
       "4  5   South    Nimroz                         18                    0   \n",
       "\n",
       "   Partial Functional HFs Non-Functional HFs Remarks  \n",
       "0                      10                  0     NaN  \n",
       "1                      77                  1     NaN  \n",
       "2                      47                  0     NaN  \n",
       "3                      56                  0     NaN  \n",
       "4                      18                  0     NaN  "
      ]
     },
     "execution_count": 3,
     "metadata": {},
     "output_type": "execute_result"
    }
   ],
   "source": [
    "data.head()"
   ]
  },
  {
   "cell_type": "code",
   "execution_count": 4,
   "metadata": {},
   "outputs": [],
   "source": [
    "prompt = \"{instruction} \\n {context} \\n output: \"\n",
    "instruction = \"Given the following table what is the province with less available Full functional HFs.\"\n",
    "context =\"\"\"SN\tRegions\tProvince\tTotal # of Sehatmandi HFs\tFull Functional HFs\tPartial Functional HFs\tNon-Functional HFs\tRemarks\n",
    "1\tSouth\tKandahar\t64\t54\t10\t0\t\n",
    "2\tSouth\tHemlmand\t78\t0\t77\t1\t\n",
    "3\tSouth\tZabul\t47\t0\t47\t0\t\n",
    "4\tSouth\tUrozgan\t56\t0\t56\t0\t\n",
    "5\tSouth\tNimroz\t18\t0\t18\t0\t\n",
    "6\tEast\tNangarhar\t132\t11\t120\t1\t\n",
    "7\tEast\tLaghman\t59\t7\t52\t0\t\n",
    "8\tEast\tKunar\t62\t13\t49\t0\t\n",
    "9\tEast\tNuristan\t37\t0\t20\t17\t\n",
    "10\tCentral \tKabul\t47\t0\t47\t0\t\n",
    "11\tCentral \tKapisa\t50\t0\t50\t0\t\n",
    "12\tCentral \tParwan\t84\t0\t84\t0\t\n",
    "13\tCentral \tPanjsher \t30\t0\t0\t30\t\n",
    "14\tCentral \tLogar \t56\t53\t3\t0\t\n",
    "15\tCentral \tWardak\t77\t12\t65\t0\t\n",
    "16\tCentral \tBamian\t75\t75\t0\t0\t\n",
    "17\tCentral \tDaikunid \t58\t52\t6\t0\t\n",
    "18\tSoutheast\tKhost\t42\t0\t42\t0\t\n",
    "19\tSoutheast\tPaktika\t54\t0\t54\t0\t\n",
    "20\tSoutheast\tPaktya\t46\t0\t46\t0\t\n",
    "21\tSoutheast\tGhazni\t109\t0\t109\t0\t\n",
    "22\tNortheast\tBadakhshan\t115\t115\t0\t0\t\n",
    "23\tNortheast\tTakhar\t84\t0\t84\t0\t\n",
    "24\tNortheast\tKunuz\t75\t0\t74\t1\t\n",
    "25\tNortheast\tBaghlan\t80\t0\t80\t0\t\n",
    "26\tWestern\tHerat\t113\t0\t113\t0\t\n",
    "27\tWestern\tBadghis\t50\t0\t50\t0\t\n",
    "28\tWestern\tGhor\t91\t0\t91\t0\t\n",
    "29\tWestern\tFarah\t72\t0\t72\t0\t\n",
    "30\tNorthern\tBalkh\t116\t0\t112\t0\t\n",
    "31\tNorthern\tSamangan\t47\t1\t0\t46\t\n",
    "32\tNorthern\tJozjan\t49\t0\t49\t0 \t\n",
    "33\tNorthern\tFaryab\t68\t0\t68\t 0\t\n",
    "34\tNorthern\tSaripul\t71\t0\t71\t 0\t\n",
    "\"\"\"\n",
    "prompt = prompt.format(instruction=instruction, context=context)"
   ]
  },
  {
   "cell_type": "markdown",
   "metadata": {},
   "source": [
    "### COMPLETION"
   ]
  },
  {
   "cell_type": "code",
   "execution_count": 5,
   "metadata": {},
   "outputs": [
    {
     "name": "stdout",
     "output_type": "stream",
     "text": [
      "\n",
      "The province with less available Full functional HFs is Hemlmand, with 0 Full Functional HFs.\n"
     ]
    }
   ],
   "source": [
    "import os\n",
    "import openai\n",
    "\n",
    "openai.api_key = os.getenv(\"OPENAI_API_KEY\")\n",
    "response = openai.Completion.create(\n",
    "  model=\"gpt-3.5-turbo-instruct\",\n",
    "  prompt=prompt,\n",
    "  temperature=0,\n",
    "  max_tokens=256,\n",
    "  top_p=1,\n",
    "  frequency_penalty=0,\n",
    "  presence_penalty=0\n",
    ")\n",
    "print(response.choices[0].text)"
   ]
  },
  {
   "cell_type": "code",
   "execution_count": 13,
   "metadata": {},
   "outputs": [
    {
     "data": {
      "text/plain": [
       "'\\n\\nPositive'"
      ]
     },
     "execution_count": 13,
     "metadata": {},
     "output_type": "execute_result"
    }
   ],
   "source": [
    "response.choices[0].text"
   ]
  },
  {
   "cell_type": "code",
   "execution_count": null,
   "metadata": {},
   "outputs": [],
   "source": []
  }
 ],
 "metadata": {
  "kernelspec": {
   "display_name": "gen_llms_hack",
   "language": "python",
   "name": "python3"
  },
  "language_info": {
   "codemirror_mode": {
    "name": "ipython",
    "version": 3
   },
   "file_extension": ".py",
   "mimetype": "text/x-python",
   "name": "python",
   "nbconvert_exporter": "python",
   "pygments_lexer": "ipython3",
   "version": "3.10.0"
  },
  "orig_nbformat": 4
 },
 "nbformat": 4,
 "nbformat_minor": 2
}
