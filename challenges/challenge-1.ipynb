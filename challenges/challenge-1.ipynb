{
 "cells": [
  {
   "cell_type": "code",
   "execution_count": 1,
   "metadata": {},
   "outputs": [],
   "source": [
    "from scripts.utils import MyDB\n",
    "afg_db = MyDB()\n",
    "afg_db.insert()"
   ]
  },
  {
   "cell_type": "code",
   "execution_count": 4,
   "metadata": {},
   "outputs": [
    {
     "name": "stdout",
     "output_type": "stream",
     "text": [
      "(1, 'South', 'Kandahar', 64, 54, 10, 0)\n",
      "(2, 'South', 'Hemlmand', 78, 0, 77, 1)\n",
      "(3, 'South', 'Zabul', 47, 0, 47, 0)\n",
      "(4, 'South', 'Urozgan', 56, 0, 56, 0)\n",
      "(5, 'South', 'Nimroz', 18, 0, 18, 0)\n",
      "(6, 'East', 'Nangarhar', 132, 11, 120, 1)\n",
      "(7, 'East', 'Laghman', 59, 7, 52, 0)\n",
      "(9, 'East', 'Nuristan', 37, 0, 20, 17)\n",
      "(10, 'Central', 'Kabul', 47, 0, 47, 0)\n",
      "(11, 'Central', 'Kapisa', 50, 0, 50, 0)\n",
      "(12, 'Central', 'Parwan', 84, 0, 84, 0)\n",
      "(13, 'Central', 'Panjsher', 30, 0, 0, 30)\n",
      "(14, 'Central', 'Logar', 56, 53, 3, 0)\n",
      "(15, 'Central', 'Wardak', 77, 12, 65, 0)\n",
      "(16, 'Central', 'Bamian', 75, 75, 0, 0)\n",
      "(17, 'Central', 'Daikunid', 58, 52, 6, 0)\n",
      "(18, 'Southeast', 'Khost', 42, 0, 42, 0)\n",
      "(19, 'Southeast', 'Paktika', 54, 0, 54, 0)\n",
      "(20, 'Southeast', 'Paktya', 46, 0, 46, 0)\n",
      "(21, 'Southeast', 'Ghazni', 109, 0, 109, 0)\n",
      "(22, 'Northeast', 'Badakhshan', 115, 115, 0, 0)\n",
      "(23, 'Northeast', 'Takhar', 84, 0, 84, 0)\n",
      "(24, 'Northeast', 'Kunuz', 75, 0, 74, 1)\n",
      "(25, 'Northeast', 'Baghlan', 80, 0, 80, 0)\n",
      "(26, 'Western', 'Herat', 113, 0, 113, 0)\n",
      "(27, 'Western', 'Badghis', 50, 0, 50, 0)\n",
      "(28, 'Western', 'Ghor', 91, 0, 91, 0)\n",
      "(29, 'Western', 'Farah', 72, 0, 72, 0)\n",
      "(30, 'Northern', 'Balkh', 116, 0, 112, 0)\n",
      "(31, 'Northern', 'Samangan', 47, 1, 0, 46)\n",
      "(32, 'Northern', 'Jozjan', 49, 0, 49, 0)\n",
      "(33, 'Northern', 'Faryab', 68, 0, 68, 0)\n",
      "(34, 'Northern', 'Saripul', 71, 0, 71, 0)\n"
     ]
    }
   ],
   "source": [
    "afg_db.select_table(\"select * from afgid\")"
   ]
  },
  {
   "cell_type": "code",
   "execution_count": 5,
   "metadata": {},
   "outputs": [],
   "source": [
    "afg_db.connection.close()"
   ]
  }
 ],
 "metadata": {
  "kernelspec": {
   "display_name": "gen_llms_hack",
   "language": "python",
   "name": "python3"
  },
  "language_info": {
   "codemirror_mode": {
    "name": "ipython",
    "version": 3
   },
   "file_extension": ".py",
   "mimetype": "text/x-python",
   "name": "python",
   "nbconvert_exporter": "python",
   "pygments_lexer": "ipython3",
   "version": "3.10.0"
  }
 },
 "nbformat": 4,
 "nbformat_minor": 2
}
